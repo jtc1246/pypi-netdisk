{
 "cells": [
  {
   "cell_type": "code",
   "execution_count": 1,
   "metadata": {},
   "outputs": [],
   "source": [
    "import secrets\n",
    "\n",
    "def generate_random_bytes(n):\n",
    "    return secrets.token_bytes(n)"
   ]
  },
  {
   "cell_type": "code",
   "execution_count": 2,
   "metadata": {},
   "outputs": [
    {
     "name": "stdout",
     "output_type": "stream",
     "text": [
      "6896\n"
     ]
    }
   ],
   "source": [
    "f = open('./test_linux_x86.so', 'rb')\n",
    "head = f.read(8280)\n",
    "_ = f.read(95000000)\n",
    "tail = f.read()\n",
    "print(len(tail))"
   ]
  },
  {
   "cell_type": "code",
   "execution_count": 3,
   "metadata": {},
   "outputs": [
    {
     "name": "stdout",
     "output_type": "stream",
     "text": [
      "95000000\n"
     ]
    }
   ],
   "source": [
    "f2 = open('./test2.so', 'wb')\n",
    "f2.write(head)\n",
    "\n",
    "# f2.write(b'jtc__' * 19000000)\n",
    "\n",
    "# f2.write(b'jtc__' * 10)\n",
    "# f2.write(b'\\0\\0\\0\\0\\0')\n",
    "# f2.write(b'jtc__' * (19000000 - 11))\n",
    "\n",
    "random_bytes = generate_random_bytes(95000000)\n",
    "print(len(random_bytes))\n",
    "f2.write(random_bytes)\n",
    "\n",
    "f2.write(tail)\n",
    "f2.close()"
   ]
  }
 ],
 "metadata": {
  "kernelspec": {
   "display_name": "Python 3",
   "language": "python",
   "name": "python3"
  },
  "language_info": {
   "codemirror_mode": {
    "name": "ipython",
    "version": 3
   },
   "file_extension": ".py",
   "mimetype": "text/x-python",
   "name": "python",
   "nbconvert_exporter": "python",
   "pygments_lexer": "ipython3",
   "version": "3.9.12"
  }
 },
 "nbformat": 4,
 "nbformat_minor": 2
}
